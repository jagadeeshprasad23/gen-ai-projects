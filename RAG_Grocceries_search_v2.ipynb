{
 "cells": [
  {
   "cell_type": "code",
   "execution_count": null,
   "metadata": {
    "colab": {
     "base_uri": "https://localhost:8080/"
    },
    "collapsed": true,
    "id": "fTS4NEZIekPg",
    "outputId": "e6d58d36-932f-4068-938e-c5c1c77a3033"
   },
   "outputs": [],
   "source": [
    "!pip install lark langchain langchain_community openai chromadb tiktoken langchain-openai"
   ]
  },
  {
   "cell_type": "code",
   "execution_count": null,
   "metadata": {
    "colab": {
     "base_uri": "https://localhost:8080/"
    },
    "id": "peUo8aIUHeNC",
    "outputId": "19a6cd6f-452e-4a2b-9f86-139925d04eb9"
   },
   "outputs": [
    {
     "name": "stderr",
     "output_type": "stream",
     "text": [
      "<ipython-input-2-bf69677a6b9c>:9: LangChainDeprecationWarning: The class `OpenAIEmbeddings` was deprecated in LangChain 0.0.9 and will be removed in 1.0. An updated version of the class exists in the :class:`~langchain-openai package and should be used instead. To use it run `pip install -U :class:`~langchain-openai` and import as `from :class:`~langchain_openai import OpenAIEmbeddings``.\n",
      "  embeddings = OpenAIEmbeddings(openai_api_key=openai_api_key)\n"
     ]
    }
   ],
   "source": [
    "from langchain.schema import Document\n",
    "from langchain.embeddings.openai import OpenAIEmbeddings\n",
    "from langchain.vectorstores import Chroma, FAISS\n",
    "\n",
    "# Load environment variables from .env file\n",
    "#load_dotenv()\n",
    "openai_api_key = \"your-api-key\"\n",
    "\n",
    "embeddings = OpenAIEmbeddings(openai_api_key=openai_api_key)"
   ]
  },
  {
   "cell_type": "code",
   "execution_count": 3,
   "metadata": {
    "colab": {
     "base_uri": "https://localhost:8080/",
     "height": 310
    },
    "id": "hUn6RwmauywJ",
    "outputId": "2da038d8-9a06-4910-ac14-db5260306ea9"
   },
   "outputs": [
    {
     "data": {
      "application/vnd.google.colaboratory.intrinsic+json": {
       "summary": "{\n  \"name\": \"df\",\n  \"rows\": 100,\n  \"fields\": [\n    {\n      \"column\": \"id\",\n      \"properties\": {\n        \"dtype\": \"number\",\n        \"std\": 29,\n        \"min\": 1,\n        \"max\": 100,\n        \"num_unique_values\": 100,\n        \"samples\": [\n          84,\n          54,\n          71\n        ],\n        \"semantic_type\": \"\",\n        \"description\": \"\"\n      }\n    },\n    {\n      \"column\": \"name\",\n      \"properties\": {\n        \"dtype\": \"string\",\n        \"num_unique_values\": 100,\n        \"samples\": [\n          \"Nissin Cup Noodles Chicken\",\n          \"Green Giant Baby Carrots\",\n          \"Patak's Butter Chicken Sauce\"\n        ],\n        \"semantic_type\": \"\",\n        \"description\": \"\"\n      }\n    },\n    {\n      \"column\": \"price\",\n      \"properties\": {\n        \"dtype\": \"number\",\n        \"std\": 1.1974088185694471,\n        \"min\": 1.0,\n        \"max\": 6.5,\n        \"num_unique_values\": 25,\n        \"samples\": [\n          2.1,\n          2.2,\n          2.5\n        ],\n        \"semantic_type\": \"\",\n        \"description\": \"\"\n      }\n    },\n    {\n      \"column\": \"Brand\",\n      \"properties\": {\n        \"dtype\": \"string\",\n        \"num_unique_values\": 68,\n        \"samples\": [\n          \"Nando\\u2019s\",\n          \"McDougalls\",\n          \"Campbell's\"\n        ],\n        \"semantic_type\": \"\",\n        \"description\": \"\"\n      }\n    },\n    {\n      \"column\": \"category\",\n      \"properties\": {\n        \"dtype\": \"category\",\n        \"num_unique_values\": 30,\n        \"samples\": [\n          \"Instant Soups\",\n          \"Breakfast Cereal\",\n          \"Rice\"\n        ],\n        \"semantic_type\": \"\",\n        \"description\": \"\"\n      }\n    },\n    {\n      \"column\": \"keyword\",\n      \"properties\": {\n        \"dtype\": \"string\",\n        \"num_unique_values\": 99,\n        \"samples\": [\n          \"Carrot, carrot sticks\",\n          \"Ketchup, tomato sauce\",\n          \"Oat milk, dairy-free\"\n        ],\n        \"semantic_type\": \"\",\n        \"description\": \"\"\n      }\n    },\n    {\n      \"column\": \"weight\",\n      \"properties\": {\n        \"dtype\": \"category\",\n        \"num_unique_values\": 30,\n        \"samples\": [\n          \"450g\",\n          \"1L\",\n          \"440ml\"\n        ],\n        \"semantic_type\": \"\",\n        \"description\": \"\"\n      }\n    },\n    {\n      \"column\": \"pack_type\",\n      \"properties\": {\n        \"dtype\": \"category\",\n        \"num_unique_values\": 13,\n        \"samples\": [\n          \"Carton\",\n          \"Bar\",\n          \"Tin\"\n        ],\n        \"semantic_type\": \"\",\n        \"description\": \"\"\n      }\n    },\n    {\n      \"column\": \"pack size\",\n      \"properties\": {\n        \"dtype\": \"number\",\n        \"std\": 1,\n        \"min\": 1,\n        \"max\": 8,\n        \"num_unique_values\": 6,\n        \"samples\": [\n          4,\n          1,\n          2\n        ],\n        \"semantic_type\": \"\",\n        \"description\": \"\"\n      }\n    },\n    {\n      \"column\": \"food_tag\",\n      \"properties\": {\n        \"dtype\": \"category\",\n        \"num_unique_values\": 9,\n        \"samples\": [\n          \"vegan, pure_veg, halal\",\n          \"meat\",\n          \"pure_veg, egg_veg, halal\"\n        ],\n        \"semantic_type\": \"\",\n        \"description\": \"\"\n      }\n    },\n    {\n      \"column\": \"free_from\",\n      \"properties\": {\n        \"dtype\": \"category\",\n        \"num_unique_values\": 11,\n        \"samples\": [\n          \"Egg, Nuts\",\n          \"lactose, egg, Gluten, Nuts\",\n          \"Gluten\"\n        ],\n        \"semantic_type\": \"\",\n        \"description\": \"\"\n      }\n    }\n  ]\n}",
       "type": "dataframe",
       "variable_name": "df"
      },
      "text/html": [
       "\n",
       "  <div id=\"df-9abaa3a7-126f-4044-b4d7-1024d3b82604\" class=\"colab-df-container\">\n",
       "    <div>\n",
       "<style scoped>\n",
       "    .dataframe tbody tr th:only-of-type {\n",
       "        vertical-align: middle;\n",
       "    }\n",
       "\n",
       "    .dataframe tbody tr th {\n",
       "        vertical-align: top;\n",
       "    }\n",
       "\n",
       "    .dataframe thead th {\n",
       "        text-align: right;\n",
       "    }\n",
       "</style>\n",
       "<table border=\"1\" class=\"dataframe\">\n",
       "  <thead>\n",
       "    <tr style=\"text-align: right;\">\n",
       "      <th></th>\n",
       "      <th>id</th>\n",
       "      <th>name</th>\n",
       "      <th>price</th>\n",
       "      <th>Brand</th>\n",
       "      <th>category</th>\n",
       "      <th>keyword</th>\n",
       "      <th>weight</th>\n",
       "      <th>pack_type</th>\n",
       "      <th>pack size</th>\n",
       "      <th>food_tag</th>\n",
       "      <th>free_from</th>\n",
       "    </tr>\n",
       "  </thead>\n",
       "  <tbody>\n",
       "    <tr>\n",
       "      <th>0</th>\n",
       "      <td>1</td>\n",
       "      <td>Napolina Chopped Tin Tomatoes 4 pack</td>\n",
       "      <td>2.50</td>\n",
       "      <td>Napolina</td>\n",
       "      <td>Tin Vegetables</td>\n",
       "      <td>Tomato, chopped tomato</td>\n",
       "      <td>1.6Kg</td>\n",
       "      <td>Tin</td>\n",
       "      <td>4</td>\n",
       "      <td>vegan ,pure_veg, egg_veg, halal</td>\n",
       "      <td>lactose, egg, Gluten, Nuts</td>\n",
       "    </tr>\n",
       "    <tr>\n",
       "      <th>1</th>\n",
       "      <td>2</td>\n",
       "      <td>Heinz chopped Tomato</td>\n",
       "      <td>1.25</td>\n",
       "      <td>Heinz</td>\n",
       "      <td>Tin Vegetables</td>\n",
       "      <td>Tomato, chopped tomato</td>\n",
       "      <td>400g</td>\n",
       "      <td>Tin</td>\n",
       "      <td>1</td>\n",
       "      <td>vegan ,pure_veg, egg_veg, halal</td>\n",
       "      <td>lactose, egg, Gluten, Nuts</td>\n",
       "    </tr>\n",
       "    <tr>\n",
       "      <th>2</th>\n",
       "      <td>3</td>\n",
       "      <td>Baxters Lentil &amp; Bacon Soup</td>\n",
       "      <td>1.50</td>\n",
       "      <td>Baxters</td>\n",
       "      <td>Tin Soup</td>\n",
       "      <td>Lentil, Bacon, soup</td>\n",
       "      <td>400g</td>\n",
       "      <td>Tin</td>\n",
       "      <td>1</td>\n",
       "      <td>meat</td>\n",
       "      <td>lactose, egg, Gluten, Nuts</td>\n",
       "    </tr>\n",
       "    <tr>\n",
       "      <th>3</th>\n",
       "      <td>4</td>\n",
       "      <td>Bens Egg Fried Rice</td>\n",
       "      <td>1.20</td>\n",
       "      <td>Bens</td>\n",
       "      <td>Microwave Rice</td>\n",
       "      <td>Rice, fried rice</td>\n",
       "      <td>250g</td>\n",
       "      <td>packet</td>\n",
       "      <td>1</td>\n",
       "      <td>egg_veg, halal</td>\n",
       "      <td>lactose, Gluten, Nuts</td>\n",
       "    </tr>\n",
       "    <tr>\n",
       "      <th>4</th>\n",
       "      <td>5</td>\n",
       "      <td>Campbell's Cream of Mushroom Soup</td>\n",
       "      <td>1.50</td>\n",
       "      <td>Campbell's</td>\n",
       "      <td>Tin Soup</td>\n",
       "      <td>Mushroom, soup</td>\n",
       "      <td>300g</td>\n",
       "      <td>Tin</td>\n",
       "      <td>1</td>\n",
       "      <td>vegan ,pure_veg, egg_veg, halal</td>\n",
       "      <td>lactose, egg, Gluten, Nuts</td>\n",
       "    </tr>\n",
       "  </tbody>\n",
       "</table>\n",
       "</div>\n",
       "    <div class=\"colab-df-buttons\">\n",
       "\n",
       "  <div class=\"colab-df-container\">\n",
       "    <button class=\"colab-df-convert\" onclick=\"convertToInteractive('df-9abaa3a7-126f-4044-b4d7-1024d3b82604')\"\n",
       "            title=\"Convert this dataframe to an interactive table.\"\n",
       "            style=\"display:none;\">\n",
       "\n",
       "  <svg xmlns=\"http://www.w3.org/2000/svg\" height=\"24px\" viewBox=\"0 -960 960 960\">\n",
       "    <path d=\"M120-120v-720h720v720H120Zm60-500h600v-160H180v160Zm220 220h160v-160H400v160Zm0 220h160v-160H400v160ZM180-400h160v-160H180v160Zm440 0h160v-160H620v160ZM180-180h160v-160H180v160Zm440 0h160v-160H620v160Z\"/>\n",
       "  </svg>\n",
       "    </button>\n",
       "\n",
       "  <style>\n",
       "    .colab-df-container {\n",
       "      display:flex;\n",
       "      gap: 12px;\n",
       "    }\n",
       "\n",
       "    .colab-df-convert {\n",
       "      background-color: #E8F0FE;\n",
       "      border: none;\n",
       "      border-radius: 50%;\n",
       "      cursor: pointer;\n",
       "      display: none;\n",
       "      fill: #1967D2;\n",
       "      height: 32px;\n",
       "      padding: 0 0 0 0;\n",
       "      width: 32px;\n",
       "    }\n",
       "\n",
       "    .colab-df-convert:hover {\n",
       "      background-color: #E2EBFA;\n",
       "      box-shadow: 0px 1px 2px rgba(60, 64, 67, 0.3), 0px 1px 3px 1px rgba(60, 64, 67, 0.15);\n",
       "      fill: #174EA6;\n",
       "    }\n",
       "\n",
       "    .colab-df-buttons div {\n",
       "      margin-bottom: 4px;\n",
       "    }\n",
       "\n",
       "    [theme=dark] .colab-df-convert {\n",
       "      background-color: #3B4455;\n",
       "      fill: #D2E3FC;\n",
       "    }\n",
       "\n",
       "    [theme=dark] .colab-df-convert:hover {\n",
       "      background-color: #434B5C;\n",
       "      box-shadow: 0px 1px 3px 1px rgba(0, 0, 0, 0.15);\n",
       "      filter: drop-shadow(0px 1px 2px rgba(0, 0, 0, 0.3));\n",
       "      fill: #FFFFFF;\n",
       "    }\n",
       "  </style>\n",
       "\n",
       "    <script>\n",
       "      const buttonEl =\n",
       "        document.querySelector('#df-9abaa3a7-126f-4044-b4d7-1024d3b82604 button.colab-df-convert');\n",
       "      buttonEl.style.display =\n",
       "        google.colab.kernel.accessAllowed ? 'block' : 'none';\n",
       "\n",
       "      async function convertToInteractive(key) {\n",
       "        const element = document.querySelector('#df-9abaa3a7-126f-4044-b4d7-1024d3b82604');\n",
       "        const dataTable =\n",
       "          await google.colab.kernel.invokeFunction('convertToInteractive',\n",
       "                                                    [key], {});\n",
       "        if (!dataTable) return;\n",
       "\n",
       "        const docLinkHtml = 'Like what you see? Visit the ' +\n",
       "          '<a target=\"_blank\" href=https://colab.research.google.com/notebooks/data_table.ipynb>data table notebook</a>'\n",
       "          + ' to learn more about interactive tables.';\n",
       "        element.innerHTML = '';\n",
       "        dataTable['output_type'] = 'display_data';\n",
       "        await google.colab.output.renderOutput(dataTable, element);\n",
       "        const docLink = document.createElement('div');\n",
       "        docLink.innerHTML = docLinkHtml;\n",
       "        element.appendChild(docLink);\n",
       "      }\n",
       "    </script>\n",
       "  </div>\n",
       "\n",
       "\n",
       "<div id=\"df-0ae827d8-2f22-44d0-829e-5e4e61830ca8\">\n",
       "  <button class=\"colab-df-quickchart\" onclick=\"quickchart('df-0ae827d8-2f22-44d0-829e-5e4e61830ca8')\"\n",
       "            title=\"Suggest charts\"\n",
       "            style=\"display:none;\">\n",
       "\n",
       "<svg xmlns=\"http://www.w3.org/2000/svg\" height=\"24px\"viewBox=\"0 0 24 24\"\n",
       "     width=\"24px\">\n",
       "    <g>\n",
       "        <path d=\"M19 3H5c-1.1 0-2 .9-2 2v14c0 1.1.9 2 2 2h14c1.1 0 2-.9 2-2V5c0-1.1-.9-2-2-2zM9 17H7v-7h2v7zm4 0h-2V7h2v10zm4 0h-2v-4h2v4z\"/>\n",
       "    </g>\n",
       "</svg>\n",
       "  </button>\n",
       "\n",
       "<style>\n",
       "  .colab-df-quickchart {\n",
       "      --bg-color: #E8F0FE;\n",
       "      --fill-color: #1967D2;\n",
       "      --hover-bg-color: #E2EBFA;\n",
       "      --hover-fill-color: #174EA6;\n",
       "      --disabled-fill-color: #AAA;\n",
       "      --disabled-bg-color: #DDD;\n",
       "  }\n",
       "\n",
       "  [theme=dark] .colab-df-quickchart {\n",
       "      --bg-color: #3B4455;\n",
       "      --fill-color: #D2E3FC;\n",
       "      --hover-bg-color: #434B5C;\n",
       "      --hover-fill-color: #FFFFFF;\n",
       "      --disabled-bg-color: #3B4455;\n",
       "      --disabled-fill-color: #666;\n",
       "  }\n",
       "\n",
       "  .colab-df-quickchart {\n",
       "    background-color: var(--bg-color);\n",
       "    border: none;\n",
       "    border-radius: 50%;\n",
       "    cursor: pointer;\n",
       "    display: none;\n",
       "    fill: var(--fill-color);\n",
       "    height: 32px;\n",
       "    padding: 0;\n",
       "    width: 32px;\n",
       "  }\n",
       "\n",
       "  .colab-df-quickchart:hover {\n",
       "    background-color: var(--hover-bg-color);\n",
       "    box-shadow: 0 1px 2px rgba(60, 64, 67, 0.3), 0 1px 3px 1px rgba(60, 64, 67, 0.15);\n",
       "    fill: var(--button-hover-fill-color);\n",
       "  }\n",
       "\n",
       "  .colab-df-quickchart-complete:disabled,\n",
       "  .colab-df-quickchart-complete:disabled:hover {\n",
       "    background-color: var(--disabled-bg-color);\n",
       "    fill: var(--disabled-fill-color);\n",
       "    box-shadow: none;\n",
       "  }\n",
       "\n",
       "  .colab-df-spinner {\n",
       "    border: 2px solid var(--fill-color);\n",
       "    border-color: transparent;\n",
       "    border-bottom-color: var(--fill-color);\n",
       "    animation:\n",
       "      spin 1s steps(1) infinite;\n",
       "  }\n",
       "\n",
       "  @keyframes spin {\n",
       "    0% {\n",
       "      border-color: transparent;\n",
       "      border-bottom-color: var(--fill-color);\n",
       "      border-left-color: var(--fill-color);\n",
       "    }\n",
       "    20% {\n",
       "      border-color: transparent;\n",
       "      border-left-color: var(--fill-color);\n",
       "      border-top-color: var(--fill-color);\n",
       "    }\n",
       "    30% {\n",
       "      border-color: transparent;\n",
       "      border-left-color: var(--fill-color);\n",
       "      border-top-color: var(--fill-color);\n",
       "      border-right-color: var(--fill-color);\n",
       "    }\n",
       "    40% {\n",
       "      border-color: transparent;\n",
       "      border-right-color: var(--fill-color);\n",
       "      border-top-color: var(--fill-color);\n",
       "    }\n",
       "    60% {\n",
       "      border-color: transparent;\n",
       "      border-right-color: var(--fill-color);\n",
       "    }\n",
       "    80% {\n",
       "      border-color: transparent;\n",
       "      border-right-color: var(--fill-color);\n",
       "      border-bottom-color: var(--fill-color);\n",
       "    }\n",
       "    90% {\n",
       "      border-color: transparent;\n",
       "      border-bottom-color: var(--fill-color);\n",
       "    }\n",
       "  }\n",
       "</style>\n",
       "\n",
       "  <script>\n",
       "    async function quickchart(key) {\n",
       "      const quickchartButtonEl =\n",
       "        document.querySelector('#' + key + ' button');\n",
       "      quickchartButtonEl.disabled = true;  // To prevent multiple clicks.\n",
       "      quickchartButtonEl.classList.add('colab-df-spinner');\n",
       "      try {\n",
       "        const charts = await google.colab.kernel.invokeFunction(\n",
       "            'suggestCharts', [key], {});\n",
       "      } catch (error) {\n",
       "        console.error('Error during call to suggestCharts:', error);\n",
       "      }\n",
       "      quickchartButtonEl.classList.remove('colab-df-spinner');\n",
       "      quickchartButtonEl.classList.add('colab-df-quickchart-complete');\n",
       "    }\n",
       "    (() => {\n",
       "      let quickchartButtonEl =\n",
       "        document.querySelector('#df-0ae827d8-2f22-44d0-829e-5e4e61830ca8 button');\n",
       "      quickchartButtonEl.style.display =\n",
       "        google.colab.kernel.accessAllowed ? 'block' : 'none';\n",
       "    })();\n",
       "  </script>\n",
       "</div>\n",
       "\n",
       "    </div>\n",
       "  </div>\n"
      ],
      "text/plain": [
       "   id                                  name  price       Brand  \\\n",
       "0   1  Napolina Chopped Tin Tomatoes 4 pack   2.50    Napolina   \n",
       "1   2                  Heinz chopped Tomato   1.25       Heinz   \n",
       "2   3           Baxters Lentil & Bacon Soup   1.50     Baxters   \n",
       "3   4                   Bens Egg Fried Rice   1.20        Bens   \n",
       "4   5     Campbell's Cream of Mushroom Soup   1.50  Campbell's   \n",
       "\n",
       "         category                 keyword weight pack_type  pack size  \\\n",
       "0  Tin Vegetables  Tomato, chopped tomato  1.6Kg       Tin          4   \n",
       "1  Tin Vegetables  Tomato, chopped tomato   400g       Tin          1   \n",
       "2        Tin Soup     Lentil, Bacon, soup   400g       Tin          1   \n",
       "3  Microwave Rice        Rice, fried rice   250g    packet          1   \n",
       "4        Tin Soup          Mushroom, soup   300g       Tin          1   \n",
       "\n",
       "                          food_tag                   free_from  \n",
       "0  vegan ,pure_veg, egg_veg, halal  lactose, egg, Gluten, Nuts  \n",
       "1  vegan ,pure_veg, egg_veg, halal  lactose, egg, Gluten, Nuts  \n",
       "2                             meat  lactose, egg, Gluten, Nuts  \n",
       "3                   egg_veg, halal       lactose, Gluten, Nuts  \n",
       "4  vegan ,pure_veg, egg_veg, halal  lactose, egg, Gluten, Nuts  "
      ]
     },
     "execution_count": 3,
     "metadata": {},
     "output_type": "execute_result"
    }
   ],
   "source": [
    "import pandas as pd\n",
    "df = pd.read_excel(\"products.xlsx\")\n",
    "df.head()"
   ]
  },
  {
   "cell_type": "code",
   "execution_count": 4,
   "metadata": {
    "colab": {
     "base_uri": "https://localhost:8080/"
    },
    "id": "3NxZ2JmfvFqs",
    "outputId": "f389c169-2155-4cff-99f5-9b315b2e4cb8"
   },
   "outputs": [
    {
     "name": "stdout",
     "output_type": "stream",
     "text": [
      "['id', 'name', 'price', 'Brand', 'category', 'keyword', 'weight', 'pack_type', 'pack size', 'food_tag', 'free_from']\n"
     ]
    }
   ],
   "source": [
    "column_list = df.columns.tolist()\n",
    "print(column_list)"
   ]
  },
  {
   "cell_type": "code",
   "execution_count": 5,
   "metadata": {
    "colab": {
     "base_uri": "https://localhost:8080/",
     "height": 36
    },
    "id": "mMS9PVuwvgH7",
    "outputId": "95d061ce-2289-4dd7-8f5c-e8fe4b85bcd0"
   },
   "outputs": [
    {
     "data": {
      "application/vnd.google.colaboratory.intrinsic+json": {
       "type": "string"
      },
      "text/plain": [
       "'name'"
      ]
     },
     "execution_count": 5,
     "metadata": {},
     "output_type": "execute_result"
    }
   ],
   "source": [
    "index = column_list.index(\"name\")\n",
    "\n",
    "# Pop the item at that index\n",
    "popped_item = column_list.pop(index)\n",
    "popped_item"
   ]
  },
  {
   "cell_type": "code",
   "execution_count": 6,
   "metadata": {
    "colab": {
     "base_uri": "https://localhost:8080/"
    },
    "id": "jqNO2IYVw6Hr",
    "outputId": "b24af4a1-f795-4982-db8e-f6012db5b34d"
   },
   "outputs": [
    {
     "name": "stdout",
     "output_type": "stream",
     "text": [
      "[Document(page_content='Napolina Chopped Tin Tomatoes 4 pack', metadata={'id': 1, 'price': 2.5, 'Brand': 'Napolina', 'category': 'Tin Vegetables', 'keyword': 'Tomato, chopped tomato', 'weight': '1.6Kg', 'pack_type': 'Tin', 'pack size': 4, 'food_tag': 'vegan ,pure_veg, egg_veg, halal', 'free_from': 'lactose, egg, Gluten, Nuts'}), Document(page_content='Heinz chopped Tomato', metadata={'id': 2, 'price': 1.25, 'Brand': 'Heinz', 'category': 'Tin Vegetables', 'keyword': 'Tomato, chopped tomato', 'weight': '400g', 'pack_type': 'Tin', 'pack size': 1, 'food_tag': 'vegan ,pure_veg, egg_veg, halal', 'free_from': 'lactose, egg, Gluten, Nuts'}), Document(page_content='Baxters Lentil & Bacon Soup', metadata={'id': 3, 'price': 1.5, 'Brand': 'Baxters', 'category': 'Tin Soup', 'keyword': 'Lentil, Bacon, soup', 'weight': '400g', 'pack_type': 'Tin', 'pack size': 1, 'food_tag': 'meat', 'free_from': 'lactose, egg, Gluten, Nuts'}), Document(page_content='Bens Egg Fried Rice', metadata={'id': 4, 'price': 1.2, 'Brand': 'Bens', 'category': 'Microwave Rice', 'keyword': 'Rice, fried rice', 'weight': '250g', 'pack_type': 'packet', 'pack size': 1, 'food_tag': 'egg_veg, halal', 'free_from': 'lactose, Gluten, Nuts'}), Document(page_content=\"Campbell's Cream of Mushroom Soup\", metadata={'id': 5, 'price': 1.5, 'Brand': \"Campbell's\", 'category': 'Tin Soup', 'keyword': 'Mushroom, soup', 'weight': '300g', 'pack_type': 'Tin', 'pack size': 1, 'food_tag': 'vegan ,pure_veg, egg_veg, halal', 'free_from': 'lactose, egg, Gluten, Nuts'}), Document(page_content='Heinz Beanz  4 Pack', metadata={'id': 6, 'price': 3.5, 'Brand': 'Heinz', 'category': 'Tin Food', 'keyword': 'Baked Beans, beans', 'weight': '1.6kg', 'pack_type': 'Tin', 'pack size': 4, 'food_tag': 'vegan ,pure_veg, egg_veg, halal', 'free_from': 'lactose, egg, Gluten, Nuts'}), Document(page_content='Heinz Tomato Soup', metadata={'id': 7, 'price': 1.0, 'Brand': 'Heinz', 'category': 'packet soups', 'keyword': 'Tomato soup, tomato', 'weight': '100g', 'pack_type': 'packet', 'pack size': 4, 'food_tag': 'vegan ,pure_veg, egg_veg, halal', 'free_from': 'lactose, egg, Gluten, Nuts'}), Document(page_content='Asda Chocolate Chip Muffin', metadata={'id': 8, 'price': 2.0, 'Brand': 'Asda', 'category': 'Bakery', 'keyword': 'Chocolate chip, muffin', 'weight': '100g', 'pack_type': 'packet', 'pack size': 4, 'food_tag': 'egg_veg, halal', 'free_from': 'Nuts'}), Document(page_content='Vanilla Sponge Cake', metadata={'id': 9, 'price': 4.75, 'Brand': 'LazyDay', 'category': 'Bakery', 'keyword': 'spong cake, cake', 'weight': '375g', 'pack_type': 'packet', 'pack size': 1, 'food_tag': 'vegan ,pure_veg, egg_veg, halal', 'free_from': 'lactose, egg, Gluten, Nuts'}), Document(page_content='Green Giant Sweet Corn', metadata={'id': 10, 'price': 2.1, 'Brand': 'Green Giant', 'category': 'Frozen Vegetables', 'keyword': 'Sweet corn, corn', 'weight': '800g', 'pack_type': 'Packet', 'pack size': 1, 'food_tag': 'vegan, pure_veg, egg_veg, halal', 'free_from': 'Lactose, Egg, Gluten, Nuts'}), Document(page_content='Birds Eye Garden Peas', metadata={'id': 11, 'price': 2.5, 'Brand': 'Birds Eye', 'category': 'Frozen Vegetables', 'keyword': 'Peas, garden peas', 'weight': '1kg', 'pack_type': 'Packet', 'pack size': 1, 'food_tag': 'vegan, pure_veg, egg_veg, halal', 'free_from': 'Lactose, Egg, Gluten, Nuts'}), Document(page_content='Richmond Sausages', metadata={'id': 12, 'price': 3.2, 'Brand': 'Richmond', 'category': 'Frozen Meat', 'keyword': 'Sausages, pork sausages', 'weight': '800g', 'pack_type': 'Packet', 'pack size': 8, 'food_tag': 'meat', 'free_from': 'Lactose, Gluten, Nuts'}), Document(page_content='Chicago Town Pepperoni Pizza', metadata={'id': 13, 'price': 4.0, 'Brand': 'Chicago Town', 'category': 'Pizza', 'keyword': 'Pizza, pepperoni, cheese', 'weight': '600g', 'pack_type': 'Box', 'pack size': 1, 'food_tag': 'meat', 'free_from': 'Egg, Nuts'}), Document(page_content='Dr. Oetker Ristorante Margherita Pizza', metadata={'id': 14, 'price': 3.5, 'Brand': 'Dr. Oetker', 'category': 'Pizza', 'keyword': 'Pizza, margherita, cheese', 'weight': '500g', 'pack_type': 'Box', 'pack size': 1, 'food_tag': 'vegetarian, halal', 'free_from': 'Egg, Nuts'}), Document(page_content='Tesco Broccoli', metadata={'id': 15, 'price': 1.2, 'Brand': 'Tesco', 'category': 'Fresh Vegetables', 'keyword': 'Broccoli, vegetable', 'weight': '500g', 'pack_type': 'Loose', 'pack size': 1, 'food_tag': 'vegan, pure_veg, egg_veg, halal', 'free_from': 'Lactose, Egg, Gluten, Nuts'}), Document(page_content='Waitrose Baby Spinach', metadata={'id': 16, 'price': 1.5, 'Brand': 'Waitrose', 'category': 'Fresh Vegetables', 'keyword': 'Spinach, leaves', 'weight': '250g', 'pack_type': 'Packet', 'pack size': 1, 'food_tag': 'vegan, pure_veg, egg_veg, halal', 'free_from': 'Lactose, Egg, Gluten, Nuts'}), Document(page_content='Dole Bananas', metadata={'id': 17, 'price': 1.8, 'Brand': 'Dole', 'category': 'Fruits', 'keyword': 'Bananas, fruit', 'weight': '1kg', 'pack_type': 'Loose', 'pack size': 1, 'food_tag': 'vegan, pure_veg, egg_veg, halal', 'free_from': 'Lactose, Egg, Gluten, Nuts'}), Document(page_content='Granny Smith Apples', metadata={'id': 18, 'price': 2.3, 'Brand': 'Sainsbury’s', 'category': 'Fruits', 'keyword': 'Apples, green apple', 'weight': '1.5kg', 'pack_type': 'Packet', 'pack size': 1, 'food_tag': 'vegan, pure_veg, egg_veg, halal', 'free_from': 'Lactose, Egg, Gluten, Nuts'}), Document(page_content='McDougalls Plain Flour', metadata={'id': 19, 'price': 1.5, 'Brand': 'McDougalls', 'category': 'Flour', 'keyword': 'Plain flour, baking', 'weight': '1kg', 'pack_type': 'Packet', 'pack size': 1, 'food_tag': 'vegetarian, halal', 'free_from': 'Lactose, Egg, Nuts'}), Document(page_content='Elephant Atta Chapatti Flour', metadata={'id': 20, 'price': 2.5, 'Brand': 'Elephant Atta', 'category': 'Flour', 'keyword': 'Chapatti flour, atta', 'weight': '2kg', 'pack_type': 'Bag', 'pack size': 1, 'food_tag': 'vegan, pure_veg, egg_veg, halal', 'free_from': 'Lactose, Egg, Gluten, Nuts'}), Document(page_content='Schwartz Ground Turmeric', metadata={'id': 21, 'price': 2.3, 'Brand': 'Schwartz', 'category': 'Spices', 'keyword': 'Turmeric, spice', 'weight': '100g', 'pack_type': 'Bottle', 'pack size': 1, 'food_tag': 'vegan, pure_veg, egg_veg, halal', 'free_from': 'Lactose, Egg, Gluten, Nuts'}), Document(page_content='Rajah Garam Masala', metadata={'id': 22, 'price': 1.8, 'Brand': 'Rajah', 'category': 'Spices', 'keyword': 'Garam masala, spices', 'weight': '100g', 'pack_type': 'Packet', 'pack size': 1, 'food_tag': 'vegan, pure_veg, egg_veg, halal', 'free_from': 'Lactose, Egg, Gluten, Nuts'}), Document(page_content='Bird Eye Frozen Chicken Breast', metadata={'id': 23, 'price': 6.5, 'Brand': 'Birds Eye', 'category': 'Frozen Meat', 'keyword': 'Chicken, breast', 'weight': '1kg', 'pack_type': 'Packet', 'pack size': 4, 'food_tag': 'meat', 'free_from': 'Lactose, Gluten, Nuts'}), Document(page_content='Asda Vegetable Stir Fry Mix', metadata={'id': 24, 'price': 2.0, 'Brand': 'Asda', 'category': 'Frozen Vegetables', 'keyword': 'Stir fry mix, vegetables', 'weight': '1kg', 'pack_type': 'Packet', 'pack size': 1, 'food_tag': 'vegan, pure_veg, egg_veg, halal', 'free_from': 'Lactose, Egg, Gluten, Nuts'}), Document(page_content='Iceland Frozen Mixed Berries', metadata={'id': 25, 'price': 4.2, 'Brand': 'Iceland', 'category': 'Frozen Fruits', 'keyword': 'Mixed berries, frozen fruits', 'weight': '750g', 'pack_type': 'Packet', 'pack size': 1, 'food_tag': 'vegan, pure_veg, egg_veg, halal', 'free_from': 'Lactose, Egg, Gluten, Nuts'}), Document(page_content='Del Monte Pineapple Chunks', metadata={'id': 26, 'price': 3.0, 'Brand': 'Del Monte', 'category': 'Fruits', 'keyword': 'Pineapple, fruit', 'weight': '400g', 'pack_type': 'Tin', 'pack size': 1, 'food_tag': 'vegan, pure_veg, egg_veg, halal', 'free_from': 'Lactose, Egg, Gluten, Nuts'}), Document(page_content='John West Tuna Chunks in Brine', metadata={'id': 27, 'price': 2.2, 'Brand': 'John West', 'category': 'Tin Fish', 'keyword': 'Tuna, fish', 'weight': '145g', 'pack_type': 'Tin', 'pack size': 3, 'food_tag': 'meat', 'free_from': 'Lactose, Nuts'}), Document(page_content='Warburtons White Sliced Bread', metadata={'id': 28, 'price': 1.2, 'Brand': 'Warburtons', 'category': 'Bakery', 'keyword': 'White bread, sliced bread', 'weight': '800g', 'pack_type': 'Packet', 'pack size': 1, 'food_tag': 'vegetarian, halal', 'free_from': 'Lactose, Nuts'}), Document(page_content='Kellogg’s Corn Flakes', metadata={'id': 29, 'price': 3.8, 'Brand': 'Kellogg’s', 'category': 'Breakfast Cereal', 'keyword': 'Cornflakes, cereal', 'weight': '500g', 'pack_type': 'Box', 'pack size': 1, 'food_tag': 'vegan, pure_veg, egg_veg, halal', 'free_from': 'Lactose, Egg, Gluten, Nuts'}), Document(page_content='Quaker Oats Porridge', metadata={'id': 30, 'price': 2.5, 'Brand': 'Quaker', 'category': 'Breakfast Cereal', 'keyword': 'Oats, porridge', 'weight': '1kg', 'pack_type': 'Box', 'pack size': 1, 'food_tag': 'vegan, pure_veg, egg_veg, halal', 'free_from': 'Lactose, Nuts'}), Document(page_content='Kellogg’s Frosties', metadata={'id': 31, 'price': 3.5, 'Brand': 'Kellogg’s', 'category': 'Breakfast Cereal', 'keyword': 'Frosties, cereal', 'weight': '500g', 'pack_type': 'Box', 'pack size': 1, 'food_tag': 'pure_veg, egg_veg, halal', 'free_from': 'Lactose, Nuts'}), Document(page_content='Tropicana Orange Juice', metadata={'id': 32, 'price': 3.2, 'Brand': 'Tropicana', 'category': 'Beverages', 'keyword': 'Orange juice, juice', 'weight': '1L', 'pack_type': 'Bottle', 'pack size': 1, 'food_tag': 'vegan, pure_veg, egg_veg, halal', 'free_from': 'Lactose, Egg, Gluten, Nuts'}), Document(page_content='Pepsi Max', metadata={'id': 33, 'price': 1.8, 'Brand': 'Pepsi', 'category': 'Beverages', 'keyword': 'Soda, soft drink', 'weight': '2L', 'pack_type': 'Bottle', 'pack size': 1, 'food_tag': 'vegan, pure_veg, egg_veg, halal', 'free_from': 'Lactose, Egg, Gluten, Nuts'}), Document(page_content='Innocent Smoothie Mango & Passionfruit', metadata={'id': 34, 'price': 2.9, 'Brand': 'Innocent', 'category': 'Beverages', 'keyword': 'Smoothie, mango, passionfruit', 'weight': '750ml', 'pack_type': 'Bottle', 'pack size': 1, 'food_tag': 'vegan, pure_veg, egg_veg, halal', 'free_from': 'Lactose, Egg, Gluten, Nuts'}), Document(page_content='Cathedral City Mature Cheddar', metadata={'id': 35, 'price': 4.5, 'Brand': 'Cathedral City', 'category': 'Dairy', 'keyword': 'Cheddar cheese, cheese', 'weight': '350g', 'pack_type': 'Block', 'pack size': 1, 'food_tag': 'pure_veg, egg_veg, halal', 'free_from': 'Nuts'}), Document(page_content='Yeo Valley Organic Greek Yogurt', metadata={'id': 36, 'price': 2.8, 'Brand': 'Yeo Valley', 'category': 'Dairy', 'keyword': 'Yogurt, greek yogurt', 'weight': '500g', 'pack_type': 'Tub', 'pack size': 1, 'food_tag': 'pure_veg, egg_veg, halal', 'free_from': 'Nuts'}), Document(page_content='Cadbury Dairy Milk', metadata={'id': 37, 'price': 1.2, 'Brand': 'Cadbury', 'category': 'Confectionery', 'keyword': 'Chocolate, dairy milk', 'weight': '150g', 'pack_type': 'Bar', 'pack size': 1, 'food_tag': 'pure_veg, egg_veg, halal', 'free_from': 'Lactose, Nuts'}), Document(page_content='Lindt Lindor Assorted Truffles', metadata={'id': 38, 'price': 6.0, 'Brand': 'Lindt', 'category': 'Confectionery', 'keyword': 'Chocolate, truffles', 'weight': '200g', 'pack_type': 'Box', 'pack size': 1, 'food_tag': 'pure_veg, egg_veg, halal', 'free_from': 'Gluten, Nuts'}), Document(page_content='Ritz Crackers', metadata={'id': 39, 'price': 1.8, 'Brand': 'Ritz', 'category': 'Snacks', 'keyword': 'Crackers, savory snack', 'weight': '200g', 'pack_type': 'Box', 'pack size': 1, 'food_tag': 'pure_veg, egg_veg, halal', 'free_from': 'Lactose, Egg, Nuts'}), Document(page_content='Walkers Salt & Vinegar Crisps', metadata={'id': 40, 'price': 1.5, 'Brand': 'Walkers', 'category': 'Snacks', 'keyword': 'Crisps, salt & vinegar', 'weight': '150g', 'pack_type': 'Packet', 'pack size': 6, 'food_tag': 'vegan, pure_veg, egg_veg, halal', 'free_from': 'Lactose, Egg, Nuts'}), Document(page_content='Nutella Hazelnut Spread', metadata={'id': 41, 'price': 3.2, 'Brand': 'Nutella', 'category': 'Spreads', 'keyword': 'Hazelnut spread, chocolate spread', 'weight': '400g', 'pack_type': 'Jar', 'pack size': 1, 'food_tag': 'pure_veg, egg_veg, halal', 'free_from': 'Gluten'}), Document(page_content='Heinz Ketchup', metadata={'id': 42, 'price': 2.0, 'Brand': 'Heinz', 'category': 'Condiments', 'keyword': 'Ketchup, tomato sauce', 'weight': '500ml', 'pack_type': 'Bottle', 'pack size': 1, 'food_tag': 'vegan, pure_veg, egg_veg, halal', 'free_from': 'Lactose, Egg, Gluten, Nuts'}), Document(page_content='Hellmann’s Real Mayonnaise', metadata={'id': 43, 'price': 3.2, 'Brand': 'Hellmann’s', 'category': 'Condiments', 'keyword': 'Mayonnaise, mayo', 'weight': '400g', 'pack_type': 'Jar', 'pack size': 1, 'food_tag': 'egg_veg, halal', 'free_from': 'Nuts'}), Document(page_content='Bertolli Extra Virgin Olive Oil', metadata={'id': 44, 'price': 6.5, 'Brand': 'Bertolli', 'category': 'Cooking Essentials', 'keyword': 'Olive oil, cooking oil', 'weight': '1L', 'pack_type': 'Bottle', 'pack size': 1, 'food_tag': 'vegan, pure_veg, egg_veg, halal', 'free_from': 'Lactose, Egg, Gluten, Nuts'}), Document(page_content='Laila Basmati Rice', metadata={'id': 45, 'price': 5.5, 'Brand': 'Laila', 'category': 'Rice', 'keyword': 'Basmati rice, rice', 'weight': '5kg', 'pack_type': 'Bag', 'pack size': 1, 'food_tag': 'vegan, pure_veg, egg_veg, halal', 'free_from': 'Lactose, Egg, Gluten, Nuts'}), Document(page_content='Blue Dragon Soy Sauce', metadata={'id': 46, 'price': 2.0, 'Brand': 'Blue Dragon', 'category': 'Cooking Essentials', 'keyword': 'Soy sauce, seasoning', 'weight': '500ml', 'pack_type': 'Bottle', 'pack size': 1, 'food_tag': 'vegan, pure_veg, egg_veg, halal', 'free_from': 'Lactose, Egg, Nuts'}), Document(page_content='Old El Paso Fajita Kit', metadata={'id': 47, 'price': 3.8, 'Brand': 'Old El Paso', 'category': 'Cooking Essentials', 'keyword': 'Fajita kit, mexican', 'weight': '500g', 'pack_type': 'Box', 'pack size': 1, 'food_tag': 'pure_veg, egg_veg, halal', 'free_from': 'Nuts'}), Document(page_content='McCain Oven Chips', metadata={'id': 48, 'price': 2.8, 'Brand': 'McCain', 'category': 'Frozen Food', 'keyword': 'Chips, fries, potatoes', 'weight': '1.5kg', 'pack_type': 'Packet', 'pack size': 1, 'food_tag': 'vegan, pure_veg, egg_veg, halal', 'free_from': 'Lactose, Egg, Gluten, Nuts'}), Document(page_content='Birds Eye Chicken Nuggets', metadata={'id': 49, 'price': 4.5, 'Brand': 'Birds Eye', 'category': 'Frozen Food', 'keyword': 'Chicken nuggets, frozen chicken', 'weight': '800g', 'pack_type': 'Packet', 'pack size': 1, 'food_tag': 'meat', 'free_from': 'Lactose, Nuts'}), Document(page_content='Magnum Classic Ice Cream', metadata={'id': 50, 'price': 3.5, 'Brand': 'Magnum', 'category': 'Frozen Desserts', 'keyword': 'Ice cream, classic', 'weight': '440ml', 'pack_type': 'Box', 'pack size': 3, 'food_tag': 'pure_veg, egg_veg, halal', 'free_from': 'Nuts'}), Document(page_content='Carte D’Or Vanilla Ice Cream', metadata={'id': 51, 'price': 4.5, 'Brand': 'Carte D’Or', 'category': 'Frozen Desserts', 'keyword': 'Vanilla ice cream, frozen dessert', 'weight': '1L', 'pack_type': 'Tub', 'pack size': 1, 'food_tag': 'pure_veg, egg_veg, halal', 'free_from': 'Nuts'}), Document(page_content='Tesco Seedless Red Grapes', metadata={'id': 52, 'price': 2.2, 'Brand': 'Tesco', 'category': 'Fruits', 'keyword': 'Grapes, seedless', 'weight': '500g', 'pack_type': 'Packet', 'pack size': 1, 'food_tag': 'vegan, pure_veg, egg_veg, halal', 'free_from': 'Lactose, Egg, Gluten, Nuts'}), Document(page_content='Pink Lady Apples', metadata={'id': 53, 'price': 3.5, 'Brand': 'Waitrose', 'category': 'Fruits', 'keyword': 'Apples, sweet apples', 'weight': '1kg', 'pack_type': 'Packet', 'pack size': 1, 'food_tag': 'vegan, pure_veg, egg_veg, halal', 'free_from': 'Lactose, Egg, Gluten, Nuts'}), Document(page_content='Green Giant Baby Carrots', metadata={'id': 54, 'price': 1.5, 'Brand': 'Green Giant', 'category': 'Fresh Vegetables', 'keyword': 'Baby carrots, carrots', 'weight': '500g', 'pack_type': 'Packet', 'pack size': 1, 'food_tag': 'vegan, pure_veg, egg_veg, halal', 'free_from': 'Lactose, Egg, Gluten, Nuts'}), Document(page_content='Tesco Celery Sticks', metadata={'id': 55, 'price': 1.2, 'Brand': 'Tesco', 'category': 'Fresh Vegetables', 'keyword': 'Celery, vegetable', 'weight': '300g', 'pack_type': 'Packet', 'pack size': 1, 'food_tag': 'vegan, pure_veg, egg_veg, halal', 'free_from': 'Lactose, Egg, Gluten, Nuts'}), Document(page_content='Pukka Chicken Balti Pie', metadata={'id': 56, 'price': 2.5, 'Brand': 'Pukka', 'category': 'Bakery', 'keyword': 'Chicken pie, balti', 'weight': '200g', 'pack_type': 'Packet', 'pack size': 1, 'food_tag': 'meat', 'free_from': 'Lactose, Nuts'}), Document(page_content='Schwartz Cinnamon Powder', metadata={'id': 57, 'price': 2.2, 'Brand': 'Schwartz', 'category': 'Spices', 'keyword': 'Cinnamon, spice', 'weight': '50g', 'pack_type': 'Bottle', 'pack size': 1, 'food_tag': 'vegan, pure_veg, egg_veg, halal', 'free_from': 'Lactose, Egg, Gluten, Nuts'}), Document(page_content='Rajah Paprika Powder', metadata={'id': 58, 'price': 1.5, 'Brand': 'Rajah', 'category': 'Spices', 'keyword': 'Paprika, spice', 'weight': '100g', 'pack_type': 'Packet', 'pack size': 1, 'food_tag': 'vegan, pure_veg, egg_veg, halal', 'free_from': 'Lactose, Egg, Gluten, Nuts'}), Document(page_content='Amul Butter', metadata={'id': 59, 'price': 2.8, 'Brand': 'Amul', 'category': 'Dairy', 'keyword': 'Butter, dairy product', 'weight': '500g', 'pack_type': 'Packet', 'pack size': 1, 'food_tag': 'pure_veg, egg_veg, halal', 'free_from': 'Nuts'}), Document(page_content='Nando’s Peri-Peri Sauce', metadata={'id': 60, 'price': 3.2, 'Brand': 'Nando’s', 'category': 'Condiments', 'keyword': 'Spicy sauce, peri-peri', 'weight': '500ml', 'pack_type': 'Bottle', 'pack size': 1, 'food_tag': 'egg_veg, halal', 'free_from': 'Nuts'}), Document(page_content='Quorn Vegan Sausages', metadata={'id': 61, 'price': 3.5, 'Brand': 'Quorn', 'category': 'Frozen Meat', 'keyword': 'Vegan sausages, meat-free sausages', 'weight': '300g', 'pack_type': 'Packet', 'pack size': 1, 'food_tag': 'vegan', 'free_from': 'Lactose, Egg, Gluten, Nuts'}), Document(page_content='Tesco Mixed Leaf Salad', metadata={'id': 62, 'price': 1.8, 'Brand': 'Tesco', 'category': 'Fresh Vegetables', 'keyword': 'Salad, mixed leaves', 'weight': '250g', 'pack_type': 'Packet', 'pack size': 1, 'food_tag': 'vegan, pure_veg, halal', 'free_from': 'Lactose, Egg, Gluten, Nuts'}), Document(page_content='Naked Green Machine Smoothie', metadata={'id': 63, 'price': 2.9, 'Brand': 'Naked', 'category': 'Beverages', 'keyword': 'Smoothie, green smoothie', 'weight': '750ml', 'pack_type': 'Bottle', 'pack size': 1, 'food_tag': 'vegan', 'free_from': 'Lactose, Egg, Gluten, Nuts'}), Document(page_content='Asda Carrot Batons', metadata={'id': 64, 'price': 1.2, 'Brand': 'Asda', 'category': 'Fresh Vegetables', 'keyword': 'Carrot, carrot sticks', 'weight': '400g', 'pack_type': 'Packet', 'pack size': 1, 'food_tag': 'vegan, pure_veg, halal', 'free_from': 'Lactose, Egg, Gluten, Nuts'}), Document(page_content='Tesco Ripe Mango', metadata={'id': 65, 'price': 1.5, 'Brand': 'Tesco', 'category': 'Fruits', 'keyword': 'Mango, fruit', 'weight': '1kg', 'pack_type': 'Loose', 'pack size': 1, 'food_tag': 'vegan, pure_veg, egg_veg, halal', 'free_from': 'Lactose, Egg, Gluten, Nuts'}), Document(page_content=\"Sainsbury's Fresh Strawberries\", metadata={'id': 66, 'price': 2.5, 'Brand': \"Sainsbury's\", 'category': 'Fruits', 'keyword': 'Strawberries, berries', 'weight': '300g', 'pack_type': 'Packet', 'pack size': 1, 'food_tag': 'vegan, pure_veg, egg_veg, halal', 'free_from': 'Lactose, Egg, Gluten, Nuts'}), Document(page_content='Aldi Cauliflower Florets', metadata={'id': 67, 'price': 1.3, 'Brand': 'Aldi', 'category': 'Frozen Vegetables', 'keyword': 'Cauliflower, florets', 'weight': '1kg', 'pack_type': 'Packet', 'pack size': 1, 'food_tag': 'vegan, pure_veg, egg_veg, halal', 'free_from': 'Lactose, Egg, Gluten, Nuts'}), Document(page_content='Beyond Meat Plant-Based Burger Patties', metadata={'id': 68, 'price': 5.5, 'Brand': 'Beyond Meat', 'category': 'Frozen Meat', 'keyword': 'Burger patties, plant-based meat', 'weight': '227g', 'pack_type': 'Packet', 'pack size': 2, 'food_tag': 'vegan', 'free_from': 'Lactose, Egg, Gluten, Nuts'}), Document(page_content='Rustlers Chicken Sandwich', metadata={'id': 69, 'price': 2.8, 'Brand': 'Rustlers', 'category': 'Ready Meals', 'keyword': 'Sandwich, chicken burger', 'weight': '175g', 'pack_type': 'Packet', 'pack size': 1, 'food_tag': 'meat, halal', 'free_from': 'Lactose, Nuts'}), Document(page_content='Lidl Frozen Mixed Vegetables', metadata={'id': 70, 'price': 2.0, 'Brand': 'Lidl', 'category': 'Frozen Vegetables', 'keyword': 'Mixed vegetables, frozen vegetables', 'weight': '1kg', 'pack_type': 'Packet', 'pack size': 1, 'food_tag': 'vegan, pure_veg, egg_veg, halal', 'free_from': 'Lactose, Egg, Gluten, Nuts'}), Document(page_content=\"Patak's Butter Chicken Sauce\", metadata={'id': 71, 'price': 2.5, 'Brand': \"Patak's\", 'category': 'Cooking Essentials', 'keyword': 'Butter chicken, curry sauce', 'weight': '450g', 'pack_type': 'Jar', 'pack size': 1, 'food_tag': 'egg_veg, halal', 'free_from': 'Nuts'}), Document(page_content='Batchelors Cup A Soup Tomato', metadata={'id': 72, 'price': 1.2, 'Brand': 'Batchelors', 'category': 'Instant Soups', 'keyword': 'Cup a soup, tomato', 'weight': '100g', 'pack_type': 'Box', 'pack size': 4, 'food_tag': 'vegan, pure_veg, egg_veg, halal', 'free_from': 'Lactose, Egg, Gluten, Nuts'}), Document(page_content='Kellogg’s All-Bran', metadata={'id': 73, 'price': 3.8, 'Brand': 'Kellogg’s', 'category': 'Breakfast Cereal', 'keyword': 'Bran, cereal', 'weight': '500g', 'pack_type': 'Box', 'pack size': 1, 'food_tag': 'vegetarian, halal', 'free_from': 'Lactose, Egg, Nuts'}), Document(page_content='Tesco Organic White Rice', metadata={'id': 74, 'price': 2.2, 'Brand': 'Tesco', 'category': 'Rice', 'keyword': 'White rice, organic rice', 'weight': '1kg', 'pack_type': 'Bag', 'pack size': 1, 'food_tag': 'vegan, pure_veg, egg_veg, halal', 'free_from': 'Lactose, Egg, Gluten, Nuts'}), Document(page_content='McCain Sweet Potato Fries', metadata={'id': 75, 'price': 2.5, 'Brand': 'McCain', 'category': 'Frozen Food', 'keyword': 'Sweet potato, fries', 'weight': '500g', 'pack_type': 'Packet', 'pack size': 1, 'food_tag': 'vegan, pure_veg, egg_veg, halal', 'free_from': 'Lactose, Egg, Gluten, Nuts'}), Document(page_content='Tesco White Baguette', metadata={'id': 76, 'price': 1.5, 'Brand': 'Tesco', 'category': 'Bakery', 'keyword': 'Baguette, bread', 'weight': '300g', 'pack_type': 'Loose', 'pack size': 1, 'food_tag': 'egg_veg, halal', 'free_from': 'Lactose, Nuts'}), Document(page_content='Kingsmill 50/50 Bread', metadata={'id': 77, 'price': 1.8, 'Brand': 'Kingsmill', 'category': 'Bakery', 'keyword': 'Bread, 50/50', 'weight': '800g', 'pack_type': 'Packet', 'pack size': 1, 'food_tag': 'pure_veg, egg_veg, halal', 'free_from': 'Nuts'}), Document(page_content='Alpro Almond Milk', metadata={'id': 78, 'price': 2.2, 'Brand': 'Alpro', 'category': 'Dairy-Free', 'keyword': 'Almond milk, dairy-free', 'weight': '1L', 'pack_type': 'Carton', 'pack size': 1, 'food_tag': 'vegan, pure_veg, egg_veg, halal', 'free_from': 'Lactose, Egg, Gluten, Nuts'}), Document(page_content='Coca-Cola Zero Sugar', metadata={'id': 79, 'price': 1.9, 'Brand': 'Coca-Cola', 'category': 'Beverages', 'keyword': 'Soda, sugar-free', 'weight': '1.5L', 'pack_type': 'Bottle', 'pack size': 1, 'food_tag': 'vegan, pure_veg, egg_veg, halal', 'free_from': 'Lactose, Egg, Gluten, Nuts'}), Document(page_content='Walkers Cheese & Onion Crisps', metadata={'id': 80, 'price': 1.2, 'Brand': 'Walkers', 'category': 'Snacks', 'keyword': 'Crisps, cheese & onion', 'weight': '150g', 'pack_type': 'Packet', 'pack size': 6, 'food_tag': 'vegetarian, halal', 'free_from': 'Nuts'}), Document(page_content='Green & Black’s Organic Dark Chocolate', metadata={'id': 81, 'price': 3.5, 'Brand': \"Green & Black's\", 'category': 'Confectionery', 'keyword': 'Dark chocolate, organic chocolate', 'weight': '100g', 'pack_type': 'Bar', 'pack size': 1, 'food_tag': 'vegan, pure_veg, egg_veg, halal', 'free_from': 'Gluten, Nuts'}), Document(page_content='Asda Long Grain Rice', metadata={'id': 82, 'price': 1.5, 'Brand': 'Asda', 'category': 'Rice', 'keyword': 'Long grain rice, rice', 'weight': '1kg', 'pack_type': 'Bag', 'pack size': 1, 'food_tag': 'vegan, pure_veg, egg_veg, halal', 'free_from': 'Lactose, Egg, Gluten, Nuts'}), Document(page_content='Hovis Wholemeal Bread', metadata={'id': 83, 'price': 1.5, 'Brand': 'Hovis', 'category': 'Bakery', 'keyword': 'Wholemeal bread, bread', 'weight': '800g', 'pack_type': 'Packet', 'pack size': 1, 'food_tag': 'vegetarian, halal', 'free_from': 'Nuts'}), Document(page_content='Nissin Cup Noodles Chicken', metadata={'id': 84, 'price': 1.8, 'Brand': 'Nissin', 'category': 'Instant Noodles', 'keyword': 'Noodles, chicken flavor', 'weight': '75g', 'pack_type': 'Cup', 'pack size': 1, 'food_tag': 'meat, halal', 'free_from': 'Nuts'}), Document(page_content='Innocent Coconut Water', metadata={'id': 85, 'price': 2.5, 'Brand': 'Innocent', 'category': 'Beverages', 'keyword': 'Coconut water, natural drink', 'weight': '1L', 'pack_type': 'Bottle', 'pack size': 1, 'food_tag': 'vegan, pure_veg, egg_veg, halal', 'free_from': 'Lactose, Egg, Gluten, Nuts'}), Document(page_content='Tesco Mediterranean Roasted Vegetables', metadata={'id': 86, 'price': 2.8, 'Brand': 'Tesco', 'category': 'Frozen Vegetables', 'keyword': 'Roasted vegetables, Mediterranean mix', 'weight': '1kg', 'pack_type': 'Packet', 'pack size': 1, 'food_tag': 'vegan, pure_veg, egg_veg, halal', 'free_from': 'Lactose, Egg, Gluten, Nuts'}), Document(page_content='Lidl Black Beans', metadata={'id': 87, 'price': 1.2, 'Brand': 'Lidl', 'category': 'Tin Vegetables', 'keyword': 'Black beans, canned beans', 'weight': '400g', 'pack_type': 'Tin', 'pack size': 1, 'food_tag': 'vegan, pure_veg, egg_veg, halal', 'free_from': 'Lactose, Egg, Gluten, Nuts'}), Document(page_content='Heinz Tomato & Basil Soup', metadata={'id': 88, 'price': 1.9, 'Brand': 'Heinz', 'category': 'Tin Soup', 'keyword': 'Tomato soup, basil', 'weight': '400g', 'pack_type': 'Tin', 'pack size': 1, 'food_tag': 'vegan, pure_veg, egg_veg, halal', 'free_from': 'Lactose, Egg, Gluten, Nuts'}), Document(page_content='Muller Corner Strawberry Yogurt', metadata={'id': 89, 'price': 2.2, 'Brand': 'Muller', 'category': 'Dairy', 'keyword': 'Yogurt, strawberry flavor', 'weight': '175g', 'pack_type': 'Packet', 'pack size': 6, 'food_tag': 'pure_veg, egg_veg, halal', 'free_from': 'Nuts'}), Document(page_content='Yeo Valley Organic Butter', metadata={'id': 90, 'price': 3.8, 'Brand': 'Yeo Valley', 'category': 'Dairy', 'keyword': 'Butter, organic butter', 'weight': '500g', 'pack_type': 'Packet', 'pack size': 1, 'food_tag': 'pure_veg, egg_veg, halal', 'free_from': 'Nuts'}), Document(page_content='Sainsbury’s Frozen Raspberries', metadata={'id': 91, 'price': 3.2, 'Brand': \"Sainsbury's\", 'category': 'Frozen Fruits', 'keyword': 'Raspberries, frozen fruits', 'weight': '500g', 'pack_type': 'Packet', 'pack size': 1, 'food_tag': 'vegan, pure_veg, egg_veg, halal', 'free_from': 'Lactose, Egg, Gluten, Nuts'}), Document(page_content='Asda Salted Peanuts', metadata={'id': 92, 'price': 1.2, 'Brand': 'Asda', 'category': 'Snacks', 'keyword': 'Salted peanuts, nuts', 'weight': '200g', 'pack_type': 'Packet', 'pack size': 1, 'food_tag': 'vegan, pure_veg, egg_veg, halal', 'free_from': 'Lactose, Egg, Gluten'}), Document(page_content='Tesco Tofu', metadata={'id': 93, 'price': 2.5, 'Brand': 'Tesco', 'category': 'Dairy-Free', 'keyword': 'Tofu, protein', 'weight': '400g', 'pack_type': 'Packet', 'pack size': 1, 'food_tag': 'vegan, pure_veg, egg_veg, halal', 'free_from': 'Lactose, Egg, Gluten, Nuts'}), Document(page_content='Alpro Soya Milk', metadata={'id': 94, 'price': 2.2, 'Brand': 'Alpro', 'category': 'Dairy-Free', 'keyword': 'Soya milk, dairy-free', 'weight': '1L', 'pack_type': 'Carton', 'pack size': 1, 'food_tag': 'vegan, pure_veg, egg_veg, halal', 'free_from': 'Lactose, Egg, Gluten, Nuts'}), Document(page_content='Bisto Gravy Granules', metadata={'id': 95, 'price': 2.0, 'Brand': 'Bisto', 'category': 'Cooking Essentials', 'keyword': 'Gravy granules, seasoning', 'weight': '250g', 'pack_type': 'Jar', 'pack size': 1, 'food_tag': 'pure_veg, egg_veg, halal', 'free_from': 'Nuts'}), Document(page_content='Nakd Fruit & Nut Bars', metadata={'id': 96, 'price': 2.5, 'Brand': 'Nakd', 'category': 'Snacks', 'keyword': 'Fruit bars, nut bars', 'weight': '200g', 'pack_type': 'Box', 'pack size': 4, 'food_tag': 'vegan, pure_veg, egg_veg, halal', 'free_from': 'Lactose, Egg, Gluten'}), Document(page_content='Oatly Oat Drink', metadata={'id': 97, 'price': 2.5, 'Brand': 'Oatly', 'category': 'Dairy-Free', 'keyword': 'Oat milk, dairy-free', 'weight': '1L', 'pack_type': 'Carton', 'pack size': 1, 'food_tag': 'vegan, pure_veg, egg_veg, halal', 'free_from': 'Lactose, Egg, Gluten, Nuts'}), Document(page_content='Sunbites Multigrain Crisps', metadata={'id': 98, 'price': 1.8, 'Brand': 'Sunbites', 'category': 'Snacks', 'keyword': 'Multigrain crisps, chips', 'weight': '150g', 'pack_type': 'Packet', 'pack size': 6, 'food_tag': 'vegetarian, halal', 'free_from': 'Nuts'}), Document(page_content='Uncle Ben’s Brown Rice', metadata={'id': 99, 'price': 2.5, 'Brand': \"Uncle Ben's\", 'category': 'Rice', 'keyword': 'Brown rice, healthy grains', 'weight': '500g', 'pack_type': 'Packet', 'pack size': 1, 'food_tag': 'vegan, pure_veg, egg_veg, halal', 'free_from': 'Lactose, Egg, Gluten, Nuts'}), Document(page_content='Tesco Cheddar Cheese', metadata={'id': 100, 'price': 3.0, 'Brand': 'Tesco', 'category': 'Dairy', 'keyword': 'Cheese, cheddar cheese', 'weight': '400g', 'pack_type': 'Block', 'pack size': 1, 'food_tag': 'pure_veg, egg_veg, halal', 'free_from': 'Nuts'})]\n"
     ]
    }
   ],
   "source": [
    "# Assuming a Document class is structured as follows\n",
    "from dataclasses import dataclass\n",
    "from typing import List, Dict\n",
    "@dataclass\n",
    "class Document:\n",
    "    page_content: str\n",
    "    metadata: Dict\n",
    "\n",
    "def convert_df_to_documents(df):\n",
    "  documents = []\n",
    "  for _, row in df.iterrows():\n",
    "      # `name` becomes the page_content\n",
    "      page_content = row['name']\n",
    "\n",
    "      # The rest of the columns become metadata\n",
    "      metadata = row.drop('name').to_dict()\n",
    "\n",
    "      documents.append(Document(page_content=page_content, metadata=metadata))\n",
    "\n",
    "  return documents\n",
    "doc = convert_df_to_documents(df)\n",
    "\n",
    "print(doc)"
   ]
  },
  {
   "cell_type": "code",
   "execution_count": 7,
   "metadata": {
    "colab": {
     "base_uri": "https://localhost:8080/"
    },
    "id": "Wk3KRjYSfFYr",
    "outputId": "e6477a9a-7a5f-4156-8e8c-99629d1aa1c0"
   },
   "outputs": [
    {
     "name": "stdout",
     "output_type": "stream",
     "text": [
      "Chroma vectorstore created successfully!\n"
     ]
    }
   ],
   "source": [
    "# Step 1: Data Processing\n",
    "# Add as many documents as possible for the application.\n",
    "# Use some functions to convert the files in the following pattern for easier querying. Make use of using good metadata names.\n",
    "from langchain_community.vectorstores.utils import filter_complex_metadata\n",
    "\n",
    "vectorstore = Chroma.from_documents(doc, embeddings)\n",
    "\n",
    "print(\"Chroma vectorstore created successfully!\")"
   ]
  },
  {
   "cell_type": "code",
   "execution_count": 11,
   "metadata": {
    "id": "PlJDonkWgQ1i"
   },
   "outputs": [],
   "source": [
    "#from langchain.llms import OpenAI\n",
    "from langchain_openai import OpenAI\n",
    "from langchain.retrievers.self_query.base import SelfQueryRetriever\n",
    "from langchain.chains.query_constructor.base import AttributeInfo\n",
    "\n",
    "metadata_field_info = [\n",
    "    AttributeInfo(\n",
    "        name=\"ID\",\n",
    "        description=\"A unique identifier for each product, used for tracking and referencing the product in the database.\",\n",
    "        type=\"string\",\n",
    "    ),\n",
    "    AttributeInfo(\n",
    "        name=\"price\",\n",
    "        description=\"The price of the product in British pounds (GBP). This is a numeric value that indicates the cost to purchase the product.\",\n",
    "        type=\"float\",\n",
    "    ),\n",
    "    AttributeInfo(\n",
    "        name=\"brand\",\n",
    "        description=\"The brand name associated with the product. This could be the manufacturer's name or a commercial brand name.\",\n",
    "        type=\"string\",\n",
    "    ),\n",
    "    AttributeInfo(\n",
    "        name=\"category\",\n",
    "        description=\"The specific category or classification of the product, such as 'frozen vegetables', 'snacks', or 'dairy'. This helps organize products into broader groups.\",\n",
    "        type=\"string\",\n",
    "    ),\n",
    "    AttributeInfo(\n",
    "        name=\"keywords\",\n",
    "        description=\"A set of words or phrases that are associated with the product, typically used for search or filtering purposes. Examples include product type, main ingredients, or use case.\",\n",
    "        type=\"string\",\n",
    "    ),\n",
    "    AttributeInfo(\n",
    "        name=\"weight\",\n",
    "        description=\"The weight of the product, generally provided in grams (g) or kilograms (kg). This reflects the net weight of the product as it is sold.\",\n",
    "        type=\"float\",\n",
    "    ),\n",
    "    AttributeInfo(\n",
    "        name=\"pack_type\",\n",
    "        description=\"The type of packaging used for the product, such as 'tin', 'packet', 'box', or 'bag'. This indicates how the product is packaged for sale and storage.\",\n",
    "        type=\"string\",\n",
    "    ),\n",
    "    AttributeInfo(\n",
    "        name=\"pack_size\",\n",
    "        description=\"The quantity of individual items within a single package or container. For example, it could represent the number of tins or packets per pack.\",\n",
    "        type=\"int\",\n",
    "    ),\n",
    "    AttributeInfo(\n",
    "        name=\"food_tags\",\n",
    "        description=\"A list of dietary or food-related tags describing the product, such as 'vegan', 'pure_veg', 'egg_veg', 'halal', etc. These tags describe the product’s suitability for specific dietary preferences or restrictions.\",\n",
    "        type=\"string\",\n",
    "    ),\n",
    "    AttributeInfo(\n",
    "        name=\"free_from\",\n",
    "        description=\"A list of allergens or substances that the product is free from, such as 'lactose', 'gluten', 'egg', 'dairy', etc. This information is crucial for consumers with allergies or specific dietary needs.\",\n",
    "        type=\"string\",\n",
    "    ),\n",
    "]\n",
    "\n",
    "document_content_description = (\n",
    "    \"A detailed description of the product, including key information such as the product name, unique ID, \"\n",
    "    \"price in GBP, weight in grams or kilograms, packaging type (e.g., tin, packet, box), and the number of items per package. \"\n",
    "    \"It also includes dietary and product-related tags such as vegan, pure vegetarian, egg-based, halal, and other relevant labels, \"\n",
    "    \"as well as a list of allergens or substances the product is free from, such as lactose, gluten, egg, or dairy.\"\n",
    ")\n",
    "\n",
    "llm = OpenAI(openai_api_key=openai_api_key, temperature=0)\n",
    "\n",
    "retriever = SelfQueryRetriever.from_llm(\n",
    "    llm,\n",
    "    vectorstore,\n",
    "    document_content_description,\n",
    "    metadata_field_info,\n",
    "    enable_limit=True,  # To limit the returning documents count\n",
    "    verbose=True,\n",
    ")"
   ]
  },
  {
   "cell_type": "code",
   "execution_count": 12,
   "metadata": {
    "colab": {
     "base_uri": "https://localhost:8080/"
    },
    "id": "jnhtj4P_iiuq",
    "outputId": "a720964b-6e53-4cc1-c2b6-57e64bd28c17"
   },
   "outputs": [
    {
     "name": "stdout",
     "output_type": "stream",
     "text": [
      "[]\n"
     ]
    }
   ],
   "source": [
    "# Get the relevant documents\n",
    "relevant_docs = retriever.get_relevant_documents(\"Tomatoes in tins\")\n",
    "print(relevant_docs)\n",
    "# Iterate over the documents and print the required fields\n",
    "for doc in relevant_docs:\n",
    "    print(f\"ID: {doc.metadata['ID']} , Name: {doc.page_content}, Price: {doc.metadata['price']}\")"
   ]
  },
  {
   "cell_type": "code",
   "execution_count": 13,
   "metadata": {
    "colab": {
     "base_uri": "https://localhost:8080/"
    },
    "id": "sLiKIGFqn11s",
    "outputId": "7fcb9387-0ce0-4733-e18f-f5fcd276577f"
   },
   "outputs": [
    {
     "name": "stdout",
     "output_type": "stream",
     "text": [
      "[]\n"
     ]
    }
   ],
   "source": [
    "# Get the relevant documents\n",
    "relevant_docs = retriever.get_relevant_documents(\"gluten free cakes\")\n",
    "\n",
    "print(relevant_docs)\n",
    "# Iterate over the documents and print the required fields\n",
    "for doc in relevant_docs:\n",
    "    print(f\"ID: {doc.metadata['ID']} , Name: {doc.page_content}, Price: {doc.metadata['price']}\")"
   ]
  },
  {
   "cell_type": "code",
   "execution_count": 10,
   "metadata": {
    "id": "M2Bv9n4po-TX"
   },
   "outputs": [],
   "source": []
  },
  {
   "cell_type": "markdown",
   "metadata": {
    "id": "WHLZoWPooMXk"
   },
   "source": [
    "## Furthur Improvements\n",
    "\n",
    "\n",
    "1. Fix output bug\n",
    "2. Filtering Results\n",
    "3. Limit the results\n",
    "\n",
    "\n",
    "## Advanced Improvements\n",
    "1. Add Voice to Text Search\n",
    "2. Add language Detection\n",
    "3. Add translation\n",
    "4. Add advanced quries for better results.\n"
   ]
  },
  {
   "cell_type": "code",
   "execution_count": 10,
   "metadata": {
    "id": "TbKLQCjkoL7V"
   },
   "outputs": [],
   "source": []
  }
 ],
 "metadata": {
  "colab": {
   "provenance": []
  },
  "kernelspec": {
   "display_name": "Python 3",
   "name": "python3"
  },
  "language_info": {
   "name": "python"
  }
 },
 "nbformat": 4,
 "nbformat_minor": 0
}
